{
 "cells": [
  {
   "cell_type": "code",
   "execution_count": 1,
   "metadata": {},
   "outputs": [
    {
     "name": "stdout",
     "output_type": "stream",
     "text": [
      "Enter your guessed number:32\n",
      "You entered a high number\n",
      "The random generated number is: 4\n"
     ]
    }
   ],
   "source": [
    "import random\n",
    "guess = random.randrange(1,20)\n",
    "\n",
    "your_input = int(input(\"Enter your guessed number:\"))\n",
    "if(your_input == guess):\n",
    "    print(\"You've won!\")\n",
    "elif(your_input < guess):\n",
    "    print(\"You entered a low number\")\n",
    "elif(your_input > guess):\n",
    "    print(\"You entered a high number\")\n",
    "    \n",
    "print(\"The random generated number is:\", guess)"
   ]
  },
  {
   "cell_type": "code",
   "execution_count": null,
   "metadata": {},
   "outputs": [],
   "source": []
  }
 ],
 "metadata": {
  "kernelspec": {
   "display_name": "Python 3",
   "language": "python",
   "name": "python3"
  },
  "language_info": {
   "codemirror_mode": {
    "name": "ipython",
    "version": 3
   },
   "file_extension": ".py",
   "mimetype": "text/x-python",
   "name": "python",
   "nbconvert_exporter": "python",
   "pygments_lexer": "ipython3",
   "version": "3.7.4"
  }
 },
 "nbformat": 4,
 "nbformat_minor": 2
}
