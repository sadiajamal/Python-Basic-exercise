{
 "cells": [
  {
   "cell_type": "code",
   "execution_count": 26,
   "metadata": {},
   "outputs": [
    {
     "ename": "SyntaxError",
     "evalue": "invalid syntax (<ipython-input-26-995f12cb1537>, line 11)",
     "output_type": "error",
     "traceback": [
      "\u001b[1;36m  File \u001b[1;32m\"<ipython-input-26-995f12cb1537>\"\u001b[1;36m, line \u001b[1;32m11\u001b[0m\n\u001b[1;33m    else:\u001b[0m\n\u001b[1;37m       ^\u001b[0m\n\u001b[1;31mSyntaxError\u001b[0m\u001b[1;31m:\u001b[0m invalid syntax\n"
     ]
    }
   ],
   "source": [
    "#Linear search\n",
    "values = input(\"Input some comma seprated numbers : \")\n",
    "list_ = values.split(\",\")\n",
    "print('List : ',list_)\n",
    "search = input(\"Enter value to search:\")\n",
    "\n",
    "#def linearsearch(list_, search):\n",
    "for i in range(len(list_)):\n",
    "      if list_[i] == search:\n",
    "         #return i\n",
    "        else:\n",
    "         print(\"Element is not in the list\")\n",
    "         break\n",
    "    \n",
    "print(\"element found at index \"+str(linearsearch(list_,search)))"
   ]
  },
  {
   "cell_type": "code",
   "execution_count": null,
   "metadata": {},
   "outputs": [],
   "source": []
  }
 ],
 "metadata": {
  "kernelspec": {
   "display_name": "Python 3",
   "language": "python",
   "name": "python3"
  },
  "language_info": {
   "codemirror_mode": {
    "name": "ipython",
    "version": 3
   },
   "file_extension": ".py",
   "mimetype": "text/x-python",
   "name": "python",
   "nbconvert_exporter": "python",
   "pygments_lexer": "ipython3",
   "version": "3.7.4"
  }
 },
 "nbformat": 4,
 "nbformat_minor": 2
}
